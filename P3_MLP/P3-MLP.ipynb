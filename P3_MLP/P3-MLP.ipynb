{
 "cells": [
  {
   "cell_type": "markdown",
   "metadata": {},
   "source": [
    "# [SWCON253] Machine Learning\n",
    "Teaching Assistant: Hyundong Cho (gusehd1113@khu.ac.kr)\n",
    "\n",
    "Professor: Jinwoo Choi (jinwoochoi@khu.ac.kr)"
   ]
  },
  {
   "cell_type": "markdown",
   "metadata": {},
   "source": [
    "---"
   ]
  },
  {
   "cell_type": "markdown",
   "metadata": {},
   "source": [
    "# P3:  Deep Learning Framwork: Pytorch를 이용하여 MLP 구현 (10점)\n",
    "\n",
    "### 학습목표\n",
    "- pytorch를 사용하여 구현된 MLP 구조를 이해하고 수정할수 있다.\n",
    "- Fashinon-MNIST 문제를 스스로 해결하면서 딥러닝 학습과정을 이해하고 하이퍼파라미터를 튜닝을 할 수 있다.\n",
    "\n",
    "### 실습내용\n",
    "pytorch를 사용하여 구현 되어 있는 MLP를 통해 Fashion-MNIST 데이터셋을 분류하는 classfier를 학습합니다.\n",
    "\n",
    "실습은 다음 순서로 진행됩니다.\n",
    "- 1) Fashon-MNIST 데이터셋 설명\n",
    "- 2) Data loading\n",
    "- 3) Multilayer Perceptron Model\n",
    "- 4) Training\n",
    "- 5) Evaluation\n",
    "- 6) Discussion\n",
    "\n",
    "아래 코드에는 1개의 퍼셉트론은 이용한 MLP 모델이 정의 되어 있습니다. <br>\n",
    "실습을 시작하기전에 이 노트북 파일을 읽고 모든 셀을 실행하여 올바르게 작동하는지 확인하세요.<br>\n",
    "이후에 아키텍쳐를 적절하게 변경하여 최고의 성능이 나오도록 수정해 보세요.\n",
    "\n",
    "**1. 다음은 변경 가능한 부분입니다.**\n",
    "- activation 함수 (logistic sigmoid, tanh, relu, leaky relu, ...)\n",
    "- learning rate\n",
    "- hidden layers 갯수\n",
    "- epochs\n",
    "- batch size\n",
    "- 각 hidden layer의 neuron 개수\n",
    "\n",
    "**2. 다음 사항은 변경하지 마세요.**\n",
    "- 가중치 초기화 방법\n",
    "- 랜덤시드\n",
    "- 최적화 방법, 학습 방법\n",
    "\n",
    "**3. layer를 추가하여 2개 이상의 hidden layer를 구성할 수 있게 구현하세요.**\n",
    "\n",
    "**4. 수정가능한 셀은 아래 주석으로 확실하게 하이라이트되어 표시되어 있습니다.**\n",
    "\n",
    "```\n",
    "############################################################\n",
    "################## 변경 가능한 셀 ##########################\n",
    "############################################################\n",
    "```\n",
    "\n",
    "### 점수\n",
    "**Test set 기준 (hidden layer 수를 2개 이상으로 설정하지 않으면 0점)**\n",
    "\n",
    "- 정확도 85% 이상 2점\n",
    "- 정확도 86% 이상 4점\n",
    "- 정확도 87% 이상 6점\n",
    "- 정확도 88% 이상 8점\n",
    "\n",
    "**Discussion**\n",
    "- Discussion 점수: 2점\n",
    "\n",
    "`.ipynb 파일과 함께 .html 파일 (File -> export as -> HTML)도 함께 제출하세요. 하나만 제출할시 감점이 있습니다.`"
   ]
  },
  {
   "cell_type": "code",
   "execution_count": 72,
   "metadata": {},
   "outputs": [],
   "source": [
    "import torch\n",
    "import os\n",
    "import numpy as np\n",
    "import time\n",
    "import random\n",
    "from PIL import Image\n",
    "from torch.utils.data import Dataset\n",
    "from torchvision import transforms\n",
    "from torch.utils.data import DataLoader\n",
    "import torch.nn.functional as F\n",
    "# Document: https://pytorch.org/docs/stable/nn.functional.html\n",
    "import matplotlib.pyplot as plt\n",
    "# Document: https://matplotlib.org/stable/api/_as_gen/matplotlib.pyplot.html\n",
    "%matplotlib inline"
   ]
  },
  {
   "cell_type": "code",
   "execution_count": 73,
   "metadata": {},
   "outputs": [],
   "source": [
    "# 이 부분은 절대 변경하지 마세요.\n",
    "\n",
    "RANDOM_SEED = 123\n",
    "DEVICE = torch.device('cuda:0' if torch.cuda.is_available() else 'cpu')"
   ]
  },
  {
   "cell_type": "markdown",
   "metadata": {},
   "source": [
    "## 1) Dataset 설명"
   ]
  },
  {
   "cell_type": "markdown",
   "metadata": {},
   "source": [
    "이 데이터셋은 기존의 MNIST와 비슷하게 10개의 클래스로 이루어진 데이터셋입니다. 또한 흑백의 28x28크기, 60k개의 학습용 이미지와 10k개의 테스트용 이미지로 구성 되어 있는것과 같이 MNIST와 대부분 비슷한 구조로 이뤄져 있습니다. \n",
    "\n",
    "아래는 데이터셋의 샘플 이미지 입니다.\n",
    "\n",
    "![](https://github.com/zalandoresearch/fashion-mnist/raw/master/doc/img/fashion-mnist-sprite.png)\n",
    "\n",
    "출처: https://github.com/zalandoresearch/fashion-mnist)\n",
    "\n"
   ]
  },
  {
   "cell_type": "markdown",
   "metadata": {},
   "source": [
    "데이터셋의 10개의 클래스는 다음과 같습니다.\n",
    "\n",
    "\n",
    "| Label | Description |\n",
    "| --- | --- |\n",
    "| 0 | T-shirt/top |\n",
    "| 1 | Trouser |\n",
    "| 2 | Pullover |\n",
    "| 3 | Dress |\n",
    "| 4 | Coat |\n",
    "| 5 | Sandal |\n",
    "| 6 | Shirt |\n",
    "| 7 | Sneaker |\n",
    "| 8 | Bag |\n",
    "| 9 | Ankle boot |"
   ]
  },
  {
   "cell_type": "markdown",
   "metadata": {},
   "source": [
    "## 2) Dataset Loader"
   ]
  },
  {
   "cell_type": "code",
   "execution_count": 74,
   "metadata": {},
   "outputs": [],
   "source": [
    "import torch\n",
    "from PIL import Image\n",
    "from torchvision.datasets import FashionMNIST\n",
    "from torchvision import transforms\n",
    "from torch.utils.data import DataLoader\n",
    "\n",
    "import os"
   ]
  },
  {
   "cell_type": "code",
   "execution_count": 75,
   "metadata": {},
   "outputs": [],
   "source": [
    "# Train 데이터 로딩시 이미지 데이터 전처리를 Transforms를 통해 할 수 있습니다.\n",
    "# ToTensor는 PIL 형태의 이미지나 ndarray 를 PyTorch 가 이해할 수 있는 tensor 자료형으로 바꾸어 주는 역할을 하며\n",
    "# Random Flip, Random Crop 등을 사용하여 Data augmentation을 수행하고 이를 통해 좋은 성능을 얻을 수 있습니다.\n",
    "# 하지만, 이번 실습에서는 사용하지 않습니다.\n",
    "# Document: https://pytorch.org/vision/stable/transforms.html\n",
    "custom_train_transform = transforms.Compose([  \n",
    "                                             transforms.ToTensor(),\n",
    "                                             transforms.Normalize(mean=(0.5,), std=(0.5,))\n",
    "])"
   ]
  },
  {
   "cell_type": "code",
   "execution_count": 76,
   "metadata": {},
   "outputs": [],
   "source": [
    "# Test 데이터 로딩시 데이터 Transform\n",
    "# Testset의 Trainsform은 Training set 과 다르게 랜덤하게 변경되면 안됩니다. Testset에 대한 정확한 결과를 가져와야 하기 때문입니다.\n",
    "# 이번 실습에서는 사용하지 않습니다.\n",
    "custom_test_transform = transforms.Compose([\n",
    "                                             transforms.ToTensor(),\n",
    "                                             transforms.Normalize(mean=(0.5,), std=(0.5,))\n",
    "])"
   ]
  },
  {
   "cell_type": "code",
   "execution_count": 77,
   "metadata": {},
   "outputs": [],
   "source": [
    "############################################################\n",
    "################## 변경 가능한 셀 ##########################\n",
    "############################################################\n",
    "\n",
    "# BATCH_SIZE = 60000을 사용하면 Full-Batch 학습\n",
    "# BATCH_SIZE = 1을 사용하면 Online 학습\n",
    "# BATCH_SIZE = N (1 < N < 60000) 을 사용하면 Mini-batch 학습\n",
    "BATCH_SIZE = 64 "
   ]
  },
  {
   "cell_type": "code",
   "execution_count": 78,
   "metadata": {},
   "outputs": [],
   "source": [
    "train_dataset = FashionMNIST(\".\", train=True, download=True, transform=custom_train_transform)\n",
    "\n",
    "train_loader = DataLoader(dataset=train_dataset,\n",
    "                          batch_size=BATCH_SIZE,\n",
    "                          shuffle=True,\n",
    "                          drop_last=True,\n",
    "                          num_workers=2)\n",
    "\n",
    "\n",
    "test_dataset = FashionMNIST(\".\", train=False, download=True, transform=custom_test_transform)\n",
    "\n",
    "test_loader = DataLoader(dataset=test_dataset,\n",
    "                         batch_size=BATCH_SIZE,\n",
    "                         shuffle=False,\n",
    "                         num_workers=2)"
   ]
  },
  {
   "cell_type": "markdown",
   "metadata": {},
   "source": [
    "아래 셀은 데이터셋이 잘 Load 되었는지 확인하는 테스트용 코드입니다.\n",
    "\n",
    "특히, Label data의 경우 One-hot vector encoding 되기 전의 형태의 class label 정보입니다."
   ]
  },
  {
   "cell_type": "code",
   "execution_count": 79,
   "metadata": {},
   "outputs": [
    {
     "name": "stdout",
     "output_type": "stream",
     "text": [
      "Epoch: 1 | Batch index: 0 | Batch size: 64\n",
      "Image data shape: \t torch.Size([64, 1, 28, 28])\n",
      "Label data shape: \t torch.Size([64])\n",
      "tensor([6, 6, 5, 4, 0, 2, 0, 0, 1, 8, 6, 3, 4, 0, 1, 0, 8, 9, 1, 7, 0, 1, 4, 9,\n",
      "        5, 4, 9, 0, 2, 8, 6, 7, 9, 6, 5, 0, 1, 9, 0, 5, 6, 7, 7, 6, 0, 7, 3, 9,\n",
      "        9, 0, 0, 8, 8, 2, 2, 4, 0, 7, 5, 4, 6, 4, 2, 2])\n"
     ]
    }
   ],
   "source": [
    "num_epochs = 1\n",
    "for epoch in range(num_epochs):\n",
    "\n",
    "    for batch_idx, (x, y) in enumerate(train_loader):\n",
    "        \n",
    "        print('Epoch:', epoch+1, end='')\n",
    "        print(' | Batch index:', batch_idx, end='')\n",
    "        print(' | Batch size:', y.size()[0])\n",
    "        \n",
    "        x = x.to(DEVICE)\n",
    "        y = y.to(DEVICE)\n",
    "        print(f'Image data shape: \\t {x.shape}')\n",
    "        print(f'Label data shape: \\t {y.shape}')\n",
    "        print(y)\n",
    "        break"
   ]
  },
  {
   "cell_type": "markdown",
   "metadata": {},
   "source": [
    "## 3) Multilayer Perceptron Model\n",
    "\n",
    "아래 셀은 MLP모델을 정의하는 부분입니다. 이 과제에서 메인 부분입니다.<br>\n",
    "현재는 Hidden layer 하나로 구성되어 있습니다.<br>\n",
    "**Hidden layer이 2개**가 되도록 변경하세요.(**init 정의, output layer 의 입력**도 수정해야 합니다.)<br>\n",
    "필요에 따라 3개 이상으로 늘려도 됩니다."
   ]
  },
  {
   "cell_type": "code",
   "execution_count": 80,
   "metadata": {},
   "outputs": [
    {
     "data": {
      "text/plain": [
       "<torch._C.Generator at 0x264c2fade10>"
      ]
     },
     "execution_count": 80,
     "metadata": {},
     "output_type": "execute_result"
    }
   ],
   "source": [
    "############################################################\n",
    "################## 변경 가능한 셀 ##########################\n",
    "############################################################\n",
    "\n",
    "class MLP(torch.nn.Module):\n",
    "    \n",
    "    # <your code> to define function\n",
    "    # 힌트: def __init__(self, num_features, num_hidden_1, num_hidden_2, num_classes):\n",
    "    def __init__(self, num_features, num_hidden_1, num_hidden_2, num_hidden_3, num_classes):\n",
    "        super(MLP, self).__init__()\n",
    "        \n",
    "        self.num_classes = num_classes # 10\n",
    "        self.linear_1 = torch.nn.Linear(num_features, num_hidden_1)\n",
    "\n",
    "        # <your code> to add layer\n",
    "        self.linear_2 = torch.nn.Linear(num_hidden_1, num_hidden_2)\n",
    "        self.linear_3 = torch.nn.Linear(num_hidden_2, num_hidden_3)\n",
    "\n",
    "        self.linear_out = torch.nn.Linear(num_hidden_3, num_classes)\n",
    "        \n",
    "        # Multi-class classification 문제를 풀기 위해 Softmax 함수를 사용합니다.\n",
    "        self.softmax = torch.nn.Softmax(dim=-1)\n",
    "        \n",
    "    def forward(self, x):\n",
    "        \n",
    "        ### activation 함수 변경 가능\n",
    "        ### 레이어간의 연결 추가, 변경\n",
    "        out = self.linear_1(x)\n",
    "        out = torch.relu(out)\n",
    "        \n",
    "        out = self.linear_2(out)\n",
    "        out = torch.relu(out)\n",
    "        \n",
    "        out = self.linear_3(out)\n",
    "        out = torch.relu(out)\n",
    "        # <your code> to set the layer and the activation function\n",
    "        \n",
    "        logits = self.linear_out(out)\n",
    "        \n",
    "        # Multi-class classification 문제를 풀기 위해 Softmax 함수를 사용합니다.\n",
    "        # 다만, 이후 사용할 F.cross_entropy() 함수 내부에 Softmax가 이미 구현되어 있기 때문에\n",
    "        # Loss function 계산 시에는 self.softmax()를 통과하기 전의 logits 값을 이용하게 됩니다.\n",
    "        probas = self.softmax(logits)\n",
    "        return logits, probas\n",
    "\n",
    "# random seed는 무작위 가중치 초기화가 항상 같도록 해줍니다.\n",
    "# 초기화된 가중치에 따라 같은 네트워크도 서로 다른 성능을 낼 수 있어서 \n",
    "# 실제 사용시에는 좋은 성능을 얻기 위해 여러가지 무작위 가중치를 시도해 볼 수 있습니다.\n",
    "# 그러나 이 과제에서는 변경하지 않습니다.\n",
    "random.seed(RANDOM_SEED)\n",
    "torch.manual_seed(RANDOM_SEED)"
   ]
  },
  {
   "cell_type": "markdown",
   "metadata": {},
   "source": [
    "## 4) Training"
   ]
  },
  {
   "cell_type": "markdown",
   "metadata": {},
   "source": [
    "**다중 클래스 분류 모델을 위한 Cross Entropy Loss 사용 시 주의점**\n",
    "\n",
    "- 모델의 출력인 logits, probas의 차원은 [BATCH_SIZE, num_classes] 형태지만, 정답 Label인 targets 변수의 차원은 [BATCH_SIZE] 입니다. (ex, [1, 3, 2, 4, 9, ..., 3])\n",
    "\n",
    "\n",
    "- 일반적으로 Cross Entropy Loss를 계산하기 위해서는 targets에 one-hot vector encoding을 수행해주어야 하지만, F.cross_entropy() 함수는 이를 내부적으로 수행해줍니다.\n",
    "\n",
    "\n",
    "- 또한, F.cross_entropy() 함수 내부적으로 softmax 함수를 이용하기 때문에, 모델의 출력 중 probas 값이 아닌 logits 값 (softmax를 통과하기 이전 값)을 이용하여 Loss function을 계산합니다.\n",
    "\n",
    "\n",
    "- 구현 상세는 pytorch documents에서 확인할 수 있습니다. (https://pytorch.org/docs/stable/generated/torch.nn.functional.cross_entropy.html#torch.nn.functional.cross_entropy)"
   ]
  },
  {
   "cell_type": "code",
   "execution_count": 81,
   "metadata": {},
   "outputs": [
    {
     "name": "stdout",
     "output_type": "stream",
     "text": [
      "Epoch: 001/010 | Batch 000/937 | Cost: 2.2991\n",
      "Epoch: 001/010 | Batch 040/937 | Cost: 2.2054\n",
      "Epoch: 001/010 | Batch 080/937 | Cost: 1.8158\n",
      "Epoch: 001/010 | Batch 120/937 | Cost: 1.4627\n",
      "Epoch: 001/010 | Batch 160/937 | Cost: 0.9426\n",
      "Epoch: 001/010 | Batch 200/937 | Cost: 0.9231\n",
      "Epoch: 001/010 | Batch 240/937 | Cost: 0.6509\n",
      "Epoch: 001/010 | Batch 280/937 | Cost: 0.5381\n",
      "Epoch: 001/010 | Batch 320/937 | Cost: 0.6026\n",
      "Epoch: 001/010 | Batch 360/937 | Cost: 0.6868\n",
      "Epoch: 001/010 | Batch 400/937 | Cost: 0.5613\n",
      "Epoch: 001/010 | Batch 440/937 | Cost: 0.4987\n",
      "Epoch: 001/010 | Batch 480/937 | Cost: 0.4837\n",
      "Epoch: 001/010 | Batch 520/937 | Cost: 0.7558\n",
      "Epoch: 001/010 | Batch 560/937 | Cost: 0.5574\n",
      "Epoch: 001/010 | Batch 600/937 | Cost: 0.6645\n",
      "Epoch: 001/010 | Batch 640/937 | Cost: 0.5239\n",
      "Epoch: 001/010 | Batch 680/937 | Cost: 0.3710\n",
      "Epoch: 001/010 | Batch 720/937 | Cost: 0.5126\n",
      "Epoch: 001/010 | Batch 760/937 | Cost: 0.5613\n",
      "Epoch: 001/010 | Batch 800/937 | Cost: 0.5109\n",
      "Epoch: 001/010 | Batch 840/937 | Cost: 0.5297\n",
      "Epoch: 001/010 | Batch 880/937 | Cost: 0.5015\n",
      "Epoch: 001/010 | Batch 920/937 | Cost: 0.4061\n",
      "Epoch: 001/010 Train Acc.: 81.62% | Test Acc.: 80.45%\n",
      "Time elapsed: 0.38 min\n",
      "Epoch: 002/010 | Batch 000/937 | Cost: 0.4199\n",
      "Epoch: 002/010 | Batch 040/937 | Cost: 0.6319\n",
      "Epoch: 002/010 | Batch 080/937 | Cost: 0.4398\n",
      "Epoch: 002/010 | Batch 120/937 | Cost: 0.5290\n",
      "Epoch: 002/010 | Batch 160/937 | Cost: 0.3439\n",
      "Epoch: 002/010 | Batch 200/937 | Cost: 0.4207\n",
      "Epoch: 002/010 | Batch 240/937 | Cost: 0.6046\n",
      "Epoch: 002/010 | Batch 280/937 | Cost: 0.5955\n",
      "Epoch: 002/010 | Batch 320/937 | Cost: 0.3257\n",
      "Epoch: 002/010 | Batch 360/937 | Cost: 0.5854\n",
      "Epoch: 002/010 | Batch 400/937 | Cost: 0.2388\n",
      "Epoch: 002/010 | Batch 440/937 | Cost: 0.5012\n",
      "Epoch: 002/010 | Batch 480/937 | Cost: 0.6037\n",
      "Epoch: 002/010 | Batch 520/937 | Cost: 0.4453\n",
      "Epoch: 002/010 | Batch 560/937 | Cost: 0.6144\n",
      "Epoch: 002/010 | Batch 600/937 | Cost: 0.4450\n",
      "Epoch: 002/010 | Batch 640/937 | Cost: 0.6220\n",
      "Epoch: 002/010 | Batch 680/937 | Cost: 0.2478\n",
      "Epoch: 002/010 | Batch 720/937 | Cost: 0.3717\n",
      "Epoch: 002/010 | Batch 760/937 | Cost: 0.3856\n",
      "Epoch: 002/010 | Batch 800/937 | Cost: 0.4189\n",
      "Epoch: 002/010 | Batch 840/937 | Cost: 0.3699\n",
      "Epoch: 002/010 | Batch 880/937 | Cost: 0.3173\n",
      "Epoch: 002/010 | Batch 920/937 | Cost: 0.2652\n",
      "Epoch: 002/010 Train Acc.: 83.70% | Test Acc.: 82.44%\n",
      "Time elapsed: 0.77 min\n",
      "Epoch: 003/010 | Batch 000/937 | Cost: 0.3815\n",
      "Epoch: 003/010 | Batch 040/937 | Cost: 0.5532\n",
      "Epoch: 003/010 | Batch 080/937 | Cost: 0.1999\n",
      "Epoch: 003/010 | Batch 120/937 | Cost: 0.2206\n",
      "Epoch: 003/010 | Batch 160/937 | Cost: 0.3595\n",
      "Epoch: 003/010 | Batch 200/937 | Cost: 0.3204\n",
      "Epoch: 003/010 | Batch 240/937 | Cost: 0.2842\n",
      "Epoch: 003/010 | Batch 280/937 | Cost: 0.4028\n",
      "Epoch: 003/010 | Batch 320/937 | Cost: 0.3991\n",
      "Epoch: 003/010 | Batch 360/937 | Cost: 0.2922\n",
      "Epoch: 003/010 | Batch 400/937 | Cost: 0.3001\n",
      "Epoch: 003/010 | Batch 440/937 | Cost: 0.4121\n",
      "Epoch: 003/010 | Batch 480/937 | Cost: 0.3564\n",
      "Epoch: 003/010 | Batch 520/937 | Cost: 0.4422\n",
      "Epoch: 003/010 | Batch 560/937 | Cost: 0.4121\n",
      "Epoch: 003/010 | Batch 600/937 | Cost: 0.4629\n",
      "Epoch: 003/010 | Batch 640/937 | Cost: 0.5687\n",
      "Epoch: 003/010 | Batch 680/937 | Cost: 0.4857\n",
      "Epoch: 003/010 | Batch 720/937 | Cost: 0.4035\n",
      "Epoch: 003/010 | Batch 760/937 | Cost: 0.3740\n",
      "Epoch: 003/010 | Batch 800/937 | Cost: 0.4173\n",
      "Epoch: 003/010 | Batch 840/937 | Cost: 0.4274\n",
      "Epoch: 003/010 | Batch 880/937 | Cost: 0.4126\n",
      "Epoch: 003/010 | Batch 920/937 | Cost: 0.2181\n",
      "Epoch: 003/010 Train Acc.: 86.16% | Test Acc.: 84.81%\n",
      "Time elapsed: 1.15 min\n",
      "Epoch: 004/010 | Batch 000/937 | Cost: 0.4457\n",
      "Epoch: 004/010 | Batch 040/937 | Cost: 0.3493\n",
      "Epoch: 004/010 | Batch 080/937 | Cost: 0.4354\n",
      "Epoch: 004/010 | Batch 120/937 | Cost: 0.2929\n",
      "Epoch: 004/010 | Batch 160/937 | Cost: 0.2877\n",
      "Epoch: 004/010 | Batch 200/937 | Cost: 0.2745\n",
      "Epoch: 004/010 | Batch 240/937 | Cost: 0.3195\n",
      "Epoch: 004/010 | Batch 280/937 | Cost: 0.3796\n",
      "Epoch: 004/010 | Batch 320/937 | Cost: 0.3120\n",
      "Epoch: 004/010 | Batch 360/937 | Cost: 0.4121\n",
      "Epoch: 004/010 | Batch 400/937 | Cost: 0.3379\n",
      "Epoch: 004/010 | Batch 440/937 | Cost: 0.3475\n",
      "Epoch: 004/010 | Batch 480/937 | Cost: 0.2936\n",
      "Epoch: 004/010 | Batch 520/937 | Cost: 0.3351\n",
      "Epoch: 004/010 | Batch 560/937 | Cost: 0.3291\n",
      "Epoch: 004/010 | Batch 600/937 | Cost: 0.2480\n",
      "Epoch: 004/010 | Batch 640/937 | Cost: 0.3542\n",
      "Epoch: 004/010 | Batch 680/937 | Cost: 0.4311\n",
      "Epoch: 004/010 | Batch 720/937 | Cost: 0.5006\n",
      "Epoch: 004/010 | Batch 760/937 | Cost: 0.5003\n",
      "Epoch: 004/010 | Batch 800/937 | Cost: 0.3539\n",
      "Epoch: 004/010 | Batch 840/937 | Cost: 0.2114\n",
      "Epoch: 004/010 | Batch 880/937 | Cost: 0.4010\n",
      "Epoch: 004/010 | Batch 920/937 | Cost: 0.4227\n",
      "Epoch: 004/010 Train Acc.: 87.09% | Test Acc.: 85.15%\n",
      "Time elapsed: 1.53 min\n",
      "Epoch: 005/010 | Batch 000/937 | Cost: 0.3080\n",
      "Epoch: 005/010 | Batch 040/937 | Cost: 0.4026\n",
      "Epoch: 005/010 | Batch 080/937 | Cost: 0.2555\n",
      "Epoch: 005/010 | Batch 120/937 | Cost: 0.3832\n",
      "Epoch: 005/010 | Batch 160/937 | Cost: 0.5512\n",
      "Epoch: 005/010 | Batch 200/937 | Cost: 0.2207\n",
      "Epoch: 005/010 | Batch 240/937 | Cost: 0.4667\n",
      "Epoch: 005/010 | Batch 280/937 | Cost: 0.3205\n",
      "Epoch: 005/010 | Batch 320/937 | Cost: 0.4094\n",
      "Epoch: 005/010 | Batch 360/937 | Cost: 0.2497\n",
      "Epoch: 005/010 | Batch 400/937 | Cost: 0.2958\n",
      "Epoch: 005/010 | Batch 440/937 | Cost: 0.4094\n",
      "Epoch: 005/010 | Batch 480/937 | Cost: 0.3138\n",
      "Epoch: 005/010 | Batch 520/937 | Cost: 0.4054\n",
      "Epoch: 005/010 | Batch 560/937 | Cost: 0.2609\n",
      "Epoch: 005/010 | Batch 600/937 | Cost: 0.2773\n",
      "Epoch: 005/010 | Batch 640/937 | Cost: 0.3095\n",
      "Epoch: 005/010 | Batch 680/937 | Cost: 0.3517\n",
      "Epoch: 005/010 | Batch 720/937 | Cost: 0.4341\n",
      "Epoch: 005/010 | Batch 760/937 | Cost: 0.2515\n",
      "Epoch: 005/010 | Batch 800/937 | Cost: 0.3269\n",
      "Epoch: 005/010 | Batch 840/937 | Cost: 0.3663\n",
      "Epoch: 005/010 | Batch 880/937 | Cost: 0.4728\n",
      "Epoch: 005/010 | Batch 920/937 | Cost: 0.3367\n",
      "Epoch: 005/010 Train Acc.: 87.51% | Test Acc.: 85.59%\n",
      "Time elapsed: 1.91 min\n",
      "Epoch: 006/010 | Batch 000/937 | Cost: 0.2853\n",
      "Epoch: 006/010 | Batch 040/937 | Cost: 0.3275\n",
      "Epoch: 006/010 | Batch 080/937 | Cost: 0.3011\n",
      "Epoch: 006/010 | Batch 120/937 | Cost: 0.2878\n",
      "Epoch: 006/010 | Batch 160/937 | Cost: 0.5142\n",
      "Epoch: 006/010 | Batch 200/937 | Cost: 0.2950\n",
      "Epoch: 006/010 | Batch 240/937 | Cost: 0.2944\n",
      "Epoch: 006/010 | Batch 280/937 | Cost: 0.2843\n",
      "Epoch: 006/010 | Batch 320/937 | Cost: 0.4251\n",
      "Epoch: 006/010 | Batch 360/937 | Cost: 0.2881\n",
      "Epoch: 006/010 | Batch 400/937 | Cost: 0.3450\n",
      "Epoch: 006/010 | Batch 440/937 | Cost: 0.4461\n",
      "Epoch: 006/010 | Batch 480/937 | Cost: 0.2142\n",
      "Epoch: 006/010 | Batch 520/937 | Cost: 0.4170\n",
      "Epoch: 006/010 | Batch 560/937 | Cost: 0.4574\n",
      "Epoch: 006/010 | Batch 600/937 | Cost: 0.3475\n",
      "Epoch: 006/010 | Batch 640/937 | Cost: 0.2076\n",
      "Epoch: 006/010 | Batch 680/937 | Cost: 0.3460\n",
      "Epoch: 006/010 | Batch 720/937 | Cost: 0.3345\n",
      "Epoch: 006/010 | Batch 760/937 | Cost: 0.2802\n",
      "Epoch: 006/010 | Batch 800/937 | Cost: 0.3294\n",
      "Epoch: 006/010 | Batch 840/937 | Cost: 0.4019\n",
      "Epoch: 006/010 | Batch 880/937 | Cost: 0.2525\n",
      "Epoch: 006/010 | Batch 920/937 | Cost: 0.2552\n",
      "Epoch: 006/010 Train Acc.: 88.46% | Test Acc.: 86.46%\n",
      "Time elapsed: 2.29 min\n",
      "Epoch: 007/010 | Batch 000/937 | Cost: 0.3487\n",
      "Epoch: 007/010 | Batch 040/937 | Cost: 0.2404\n",
      "Epoch: 007/010 | Batch 080/937 | Cost: 0.2441\n",
      "Epoch: 007/010 | Batch 120/937 | Cost: 0.1974\n",
      "Epoch: 007/010 | Batch 160/937 | Cost: 0.1841\n",
      "Epoch: 007/010 | Batch 200/937 | Cost: 0.1692\n",
      "Epoch: 007/010 | Batch 240/937 | Cost: 0.2697\n",
      "Epoch: 007/010 | Batch 280/937 | Cost: 0.1820\n",
      "Epoch: 007/010 | Batch 320/937 | Cost: 0.2834\n",
      "Epoch: 007/010 | Batch 360/937 | Cost: 0.2269\n",
      "Epoch: 007/010 | Batch 400/937 | Cost: 0.4040\n",
      "Epoch: 007/010 | Batch 440/937 | Cost: 0.4282\n",
      "Epoch: 007/010 | Batch 480/937 | Cost: 0.2488\n",
      "Epoch: 007/010 | Batch 520/937 | Cost: 0.2580\n",
      "Epoch: 007/010 | Batch 560/937 | Cost: 0.3447\n",
      "Epoch: 007/010 | Batch 600/937 | Cost: 0.2904\n",
      "Epoch: 007/010 | Batch 640/937 | Cost: 0.4328\n",
      "Epoch: 007/010 | Batch 680/937 | Cost: 0.3495\n",
      "Epoch: 007/010 | Batch 720/937 | Cost: 0.3278\n",
      "Epoch: 007/010 | Batch 760/937 | Cost: 0.3101\n",
      "Epoch: 007/010 | Batch 800/937 | Cost: 0.2774\n",
      "Epoch: 007/010 | Batch 840/937 | Cost: 0.2474\n",
      "Epoch: 007/010 | Batch 880/937 | Cost: 0.4424\n",
      "Epoch: 007/010 | Batch 920/937 | Cost: 0.2295\n",
      "Epoch: 007/010 Train Acc.: 88.58% | Test Acc.: 86.38%\n",
      "Time elapsed: 2.66 min\n",
      "Epoch: 008/010 | Batch 000/937 | Cost: 0.3731\n",
      "Epoch: 008/010 | Batch 040/937 | Cost: 0.2395\n",
      "Epoch: 008/010 | Batch 080/937 | Cost: 0.3691\n",
      "Epoch: 008/010 | Batch 120/937 | Cost: 0.1999\n",
      "Epoch: 008/010 | Batch 160/937 | Cost: 0.5485\n",
      "Epoch: 008/010 | Batch 200/937 | Cost: 0.3340\n",
      "Epoch: 008/010 | Batch 240/937 | Cost: 0.3348\n",
      "Epoch: 008/010 | Batch 280/937 | Cost: 0.4115\n",
      "Epoch: 008/010 | Batch 320/937 | Cost: 0.2079\n",
      "Epoch: 008/010 | Batch 360/937 | Cost: 0.3193\n",
      "Epoch: 008/010 | Batch 400/937 | Cost: 0.4861\n",
      "Epoch: 008/010 | Batch 440/937 | Cost: 0.3829\n",
      "Epoch: 008/010 | Batch 480/937 | Cost: 0.4572\n",
      "Epoch: 008/010 | Batch 520/937 | Cost: 0.3522\n",
      "Epoch: 008/010 | Batch 560/937 | Cost: 0.3277\n",
      "Epoch: 008/010 | Batch 600/937 | Cost: 0.3492\n",
      "Epoch: 008/010 | Batch 640/937 | Cost: 0.1979\n",
      "Epoch: 008/010 | Batch 680/937 | Cost: 0.4922\n",
      "Epoch: 008/010 | Batch 720/937 | Cost: 0.2105\n",
      "Epoch: 008/010 | Batch 760/937 | Cost: 0.2883\n",
      "Epoch: 008/010 | Batch 800/937 | Cost: 0.4624\n",
      "Epoch: 008/010 | Batch 840/937 | Cost: 0.3509\n",
      "Epoch: 008/010 | Batch 880/937 | Cost: 0.3802\n",
      "Epoch: 008/010 | Batch 920/937 | Cost: 0.3131\n",
      "Epoch: 008/010 Train Acc.: 89.31% | Test Acc.: 86.80%\n",
      "Time elapsed: 3.04 min\n",
      "Epoch: 009/010 | Batch 000/937 | Cost: 0.1580\n",
      "Epoch: 009/010 | Batch 040/937 | Cost: 0.2926\n",
      "Epoch: 009/010 | Batch 080/937 | Cost: 0.3528\n",
      "Epoch: 009/010 | Batch 120/937 | Cost: 0.3793\n",
      "Epoch: 009/010 | Batch 160/937 | Cost: 0.3396\n",
      "Epoch: 009/010 | Batch 200/937 | Cost: 0.2395\n",
      "Epoch: 009/010 | Batch 240/937 | Cost: 0.1838\n",
      "Epoch: 009/010 | Batch 280/937 | Cost: 0.1554\n",
      "Epoch: 009/010 | Batch 320/937 | Cost: 0.2855\n",
      "Epoch: 009/010 | Batch 360/937 | Cost: 0.2748\n",
      "Epoch: 009/010 | Batch 400/937 | Cost: 0.2582\n",
      "Epoch: 009/010 | Batch 440/937 | Cost: 0.2065\n",
      "Epoch: 009/010 | Batch 480/937 | Cost: 0.2745\n",
      "Epoch: 009/010 | Batch 520/937 | Cost: 0.1697\n",
      "Epoch: 009/010 | Batch 560/937 | Cost: 0.2129\n",
      "Epoch: 009/010 | Batch 600/937 | Cost: 0.1694\n",
      "Epoch: 009/010 | Batch 640/937 | Cost: 0.2897\n",
      "Epoch: 009/010 | Batch 680/937 | Cost: 0.2325\n",
      "Epoch: 009/010 | Batch 720/937 | Cost: 0.3600\n",
      "Epoch: 009/010 | Batch 760/937 | Cost: 0.2527\n",
      "Epoch: 009/010 | Batch 800/937 | Cost: 0.4281\n",
      "Epoch: 009/010 | Batch 840/937 | Cost: 0.3787\n",
      "Epoch: 009/010 | Batch 880/937 | Cost: 0.1622\n",
      "Epoch: 009/010 | Batch 920/937 | Cost: 0.2929\n",
      "Epoch: 009/010 Train Acc.: 90.11% | Test Acc.: 87.36%\n",
      "Time elapsed: 3.42 min\n",
      "Epoch: 010/010 | Batch 000/937 | Cost: 0.2561\n",
      "Epoch: 010/010 | Batch 040/937 | Cost: 0.2814\n",
      "Epoch: 010/010 | Batch 080/937 | Cost: 0.1922\n",
      "Epoch: 010/010 | Batch 120/937 | Cost: 0.1755\n",
      "Epoch: 010/010 | Batch 160/937 | Cost: 0.2785\n",
      "Epoch: 010/010 | Batch 200/937 | Cost: 0.2567\n",
      "Epoch: 010/010 | Batch 240/937 | Cost: 0.2990\n",
      "Epoch: 010/010 | Batch 280/937 | Cost: 0.1959\n",
      "Epoch: 010/010 | Batch 320/937 | Cost: 0.2107\n",
      "Epoch: 010/010 | Batch 360/937 | Cost: 0.1991\n",
      "Epoch: 010/010 | Batch 400/937 | Cost: 0.1119\n",
      "Epoch: 010/010 | Batch 440/937 | Cost: 0.3968\n",
      "Epoch: 010/010 | Batch 480/937 | Cost: 0.3153\n",
      "Epoch: 010/010 | Batch 520/937 | Cost: 0.3009\n",
      "Epoch: 010/010 | Batch 560/937 | Cost: 0.2345\n",
      "Epoch: 010/010 | Batch 600/937 | Cost: 0.2158\n",
      "Epoch: 010/010 | Batch 640/937 | Cost: 0.2662\n",
      "Epoch: 010/010 | Batch 680/937 | Cost: 0.1751\n",
      "Epoch: 010/010 | Batch 720/937 | Cost: 0.2927\n",
      "Epoch: 010/010 | Batch 760/937 | Cost: 0.2494\n",
      "Epoch: 010/010 | Batch 800/937 | Cost: 0.2470\n",
      "Epoch: 010/010 | Batch 840/937 | Cost: 0.1239\n",
      "Epoch: 010/010 | Batch 880/937 | Cost: 0.4850\n",
      "Epoch: 010/010 | Batch 920/937 | Cost: 0.2459\n",
      "Epoch: 010/010 Train Acc.: 90.19% | Test Acc.: 87.70%\n",
      "Time elapsed: 3.80 min\n",
      "Total Training Time: 3.80 min\n"
     ]
    }
   ],
   "source": [
    "############################################################\n",
    "################## 변경 가능한 셀 ##########################\n",
    "############################################################\n",
    "\n",
    "### num_hidden_1 변경 가능\n",
    "### hidden layer 를 추가하였기 때문에 이부분도 알맞게 수정해야 합니다.\n",
    "model = MLP(num_features=28*28,\n",
    "            num_hidden_1=80,\n",
    "            num_hidden_2=80,\n",
    "            num_hidden_3=80,\n",
    "            num_classes=10)\n",
    "\n",
    "model = model.to(DEVICE)\n",
    "\n",
    "### Optimizer는 가중치를 업데이트하는 방법을 바꾸어 더 빠르게 좋은 성능을 낼 수 있도록합니다.\n",
    "### 이 과제에서는 Optimizer를 변경하지 않습니다. \n",
    "### 그러나 Learning Rate(lr)는 변경이 가능합니다.\n",
    "optimizer = torch.optim.SGD(model.parameters(), lr=0.05)\n",
    "\n",
    "### EPOCHS 수 변경 가능\n",
    "NUM_EPOCHS = 10\n",
    "\n",
    "### 아래는 변경 하지 마세요!\n",
    "def compute_accuracy_and_loss(model, data_loader, device):\n",
    "    correct_pred, num_examples = 0, 0\n",
    "    cross_entropy = 0.\n",
    "    for i, (features, targets) in enumerate(data_loader):\n",
    "            \n",
    "        features = features.view(-1, 28*28).to(device)\n",
    "        targets = targets.to(device)\n",
    "\n",
    "        logits, probas = model(features)\n",
    "        \n",
    "        # Loss 계산 시에는 logits 이용\n",
    "        cross_entropy += F.cross_entropy(logits, targets).item()\n",
    "        \n",
    "        # 추론 시에는 probas 이용\n",
    "        _, predicted_labels = torch.max(probas, 1)\n",
    "        num_examples += targets.size(0)\n",
    "        correct_pred += (predicted_labels == targets).sum()\n",
    "    return correct_pred.cpu().float()/num_examples * 100, cross_entropy/num_examples\n",
    "\n",
    "\n",
    "start_time = time.time()\n",
    "train_acc_lst, test_acc_lst = [], []\n",
    "train_loss_lst, test_loss_lst = [], []\n",
    "\n",
    "for epoch in range(NUM_EPOCHS):\n",
    "    \n",
    "    model.train()\n",
    "    \n",
    "    for batch_idx, (features, targets) in enumerate(train_loader):\n",
    "    \n",
    "        ### PREPARE MINIBATCH\n",
    "        features = features.view(-1, 28*28).to(DEVICE)\n",
    "        targets = targets.to(DEVICE)\n",
    "            \n",
    "        ### FORWARD AND BACK PROP\n",
    "        logits, probas = model(features)\n",
    "        cost = F.cross_entropy(logits, targets)\n",
    "        optimizer.zero_grad()\n",
    "        \n",
    "        cost.backward()\n",
    "        \n",
    "        ### UPDATE MODEL PARAMETERS\n",
    "        optimizer.step()\n",
    "        \n",
    "        ### LOGGING\n",
    "        if not batch_idx % 40:\n",
    "            print (f'Epoch: {epoch+1:03d}/{NUM_EPOCHS:03d} | '\n",
    "                   f'Batch {batch_idx:03d}/{len(train_loader):03d} |' \n",
    "                   f' Cost: {cost:.4f}')\n",
    "\n",
    "    # no need to build the computation graph for backprop when computing accuracy\n",
    "    model.eval()\n",
    "    with torch.set_grad_enabled(False):\n",
    "        train_acc, train_loss = compute_accuracy_and_loss(model, train_loader, device=DEVICE)\n",
    "        test_acc, test_loss = compute_accuracy_and_loss(model, test_loader, device=DEVICE)\n",
    "        train_acc_lst.append(train_acc)\n",
    "        test_acc_lst.append(test_acc)\n",
    "        train_loss_lst.append(train_loss)\n",
    "        test_loss_lst.append(test_loss)\n",
    "        print(f'Epoch: {epoch+1:03d}/{NUM_EPOCHS:03d} Train Acc.: {train_acc:.2f}%'\n",
    "              f' | Test Acc.: {test_acc:.2f}%')\n",
    "        \n",
    "    elapsed = (time.time() - start_time)/60\n",
    "    print(f'Time elapsed: {elapsed:.2f} min')\n",
    "  \n",
    "elapsed = (time.time() - start_time)/60\n",
    "print(f'Total Training Time: {elapsed:.2f} min')"
   ]
  },
  {
   "cell_type": "markdown",
   "metadata": {},
   "source": [
    "## 5) Evaluation\n",
    "\n",
    "테스트 데이터와 학습 데이터의 Loss변화를 확인합니다."
   ]
  },
  {
   "cell_type": "code",
   "execution_count": 82,
   "metadata": {},
   "outputs": [
    {
     "data": {
      "image/png": "[encoded data removed]",
      "text/plain": [
       "<Figure size 432x288 with 1 Axes>"
      ]
     },
     "metadata": {
      "needs_background": "light"
     },
     "output_type": "display_data"
    }
   ],
   "source": [
    "plt.plot(range(1, NUM_EPOCHS+1), train_loss_lst, label='Training loss')\n",
    "plt.plot(range(1, NUM_EPOCHS+1), test_loss_lst, label='Test loss')\n",
    "plt.legend(loc='upper right')\n",
    "plt.ylabel('Cross entropy')\n",
    "plt.xlabel('Epoch')\n",
    "plt.show()"
   ]
  },
  {
   "cell_type": "code",
   "execution_count": 83,
   "metadata": {},
   "outputs": [
    {
     "data": {
      "image/png": "[encoded data removed]",
      "text/plain": [
       "<Figure size 432x288 with 1 Axes>"
      ]
     },
     "metadata": {
      "needs_background": "light"
     },
     "output_type": "display_data"
    }
   ],
   "source": [
    "plt.plot(range(1, NUM_EPOCHS+1), train_acc_lst, label='Training accuracy')\n",
    "plt.plot(range(1, NUM_EPOCHS+1), test_acc_lst, label='Test accuracy')\n",
    "plt.legend(loc='upper left')\n",
    "plt.ylabel('Cross entropy')\n",
    "plt.xlabel('Epoch')\n",
    "plt.show()"
   ]
  },
  {
   "cell_type": "code",
   "execution_count": 84,
   "metadata": {},
   "outputs": [
    {
     "name": "stdout",
     "output_type": "stream",
     "text": [
      "Test accuracy: 87.70%\n"
     ]
    }
   ],
   "source": [
    "model.eval()\n",
    "with torch.set_grad_enabled(False): # save memory during inference\n",
    "    test_acc, test_loss = compute_accuracy_and_loss(model, test_loader, DEVICE)\n",
    "    print(f'Test accuracy: {test_acc:.2f}%')"
   ]
  },
  {
   "cell_type": "markdown",
   "metadata": {},
   "source": [
    "## 6) Discussion (2점)"
   ]
  },
  {
   "cell_type": "markdown",
   "metadata": {},
   "source": [
    "**1) 학습, 테스트 정확도는 얼마인가요? (위 숫자를 복사하세요.)**"
   ]
  },
  {
   "cell_type": "markdown",
   "metadata": {},
   "source": [
    "- Training:\n",
    "- Test:"
   ]
  },
  {
   "cell_type": "markdown",
   "metadata": {},
   "source": [
    "**2) overfitting을 경험했나요? 만약 그랬다면 왜 그랬을지 적어보고, overfitting을 방지하기위한 간단한 방법은 무엇일까요?**"
   ]
  },
  {
   "cell_type": "markdown",
   "metadata": {},
   "source": [
    "[제안하는 방법 적기]"
   ]
  },
  {
   "cell_type": "markdown",
   "metadata": {},
   "source": [
    "예를 들면, \n",
    "\n",
    "- batch size를 256으로 변경\n",
    "- 두개의 hidden layers의 activation을 relu로 변경\n",
    "- learning rate를 0.2로 변경"
   ]
  },
  {
   "cell_type": "markdown",
   "metadata": {},
   "source": [
    "**3) 만약 hidden layer 수가 늘어나면(3개 이상) 얻을 수 있는 장/단점은 무엇일까요?**"
   ]
  },
  {
   "cell_type": "markdown",
   "metadata": {},
   "source": [
    "[답변작성]"
   ]
  },
  {
   "cell_type": "markdown",
   "metadata": {},
   "source": [
    "**4) 구현하면서 수정한 부분에 대해 작성하여 수정한 이유 및 성능향상이 생긴 이유에 대해 답해보세요.**"
   ]
  },
  {
   "cell_type": "markdown",
   "metadata": {},
   "source": [
    "[답변작성]"
   ]
  }
 ],
 "metadata": {
  "kernelspec": {
   "display_name": "Python 3",
   "language": "python",
   "name": "python3"
  },
  "language_info": {
   "codemirror_mode": {
    "name": "ipython",
    "version": 3
   },
   "file_extension": ".py",
   "mimetype": "text/x-python",
   "name": "python",
   "nbconvert_exporter": "python",
   "pygments_lexer": "ipython3",
   "version": "3.8.5"
  }
 },
 "nbformat": 4,
 "nbformat_minor": 4
}
